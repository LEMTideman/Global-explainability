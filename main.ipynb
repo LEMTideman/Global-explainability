{
 "cells": [
  {
   "cell_type": "code",
   "execution_count": 1,
   "metadata": {},
   "outputs": [
    {
     "name": "stderr",
     "output_type": "stream",
     "text": [
      "/home/dinab/opt/anaconda3/envs/kaggle2/lib/python3.7/site-packages/sklearn/utils/deprecation.py:144: FutureWarning: The sklearn.metrics.scorer module is  deprecated in version 0.22 and will be removed in version 0.24. The corresponding classes / functions should instead be imported from sklearn.metrics. Anything that cannot be imported from sklearn.metrics is now part of the private API.\n",
      "  warnings.warn(message, FutureWarning)\n",
      "/home/dinab/opt/anaconda3/envs/kaggle2/lib/python3.7/site-packages/sklearn/utils/deprecation.py:144: FutureWarning: The sklearn.feature_selection.base module is  deprecated in version 0.22 and will be removed in version 0.24. The corresponding classes / functions should instead be imported from sklearn.feature_selection. Anything that cannot be imported from sklearn.feature_selection is now part of the private API.\n",
      "  warnings.warn(message, FutureWarning)\n",
      "Possible set intersection at position 3\n"
     ]
    }
   ],
   "source": [
    "import pandas as pd\n",
    "import numpy as np\n",
    "from sklearn.tree import DecisionTreeClassifier, plot_tree\n",
    "from sklearn.ensemble import RandomForestClassifier\n",
    "from sklearn.metrics import mean_squared_error,precision_score, recall_score, accuracy_score, f1_score\n",
    "\n",
    "import random\n",
    "from matplotlib import pyplot as plt\n",
    "import pickle\n",
    "import xgboost as xgb\n",
    "\n",
    "from collections import namedtuple, OrderedDict\n",
    "import eli5\n",
    "from eli5.sklearn import PermutationImportance\n",
    "import shap\n",
    "from IPython.display import display, HTML\n",
    "\n",
    "%run myxgboost_model.ipynb\n",
    "%matplotlib inline"
   ]
  },
  {
   "cell_type": "markdown",
   "metadata": {},
   "source": [
    "### Feature importance:"
   ]
  },
  {
   "cell_type": "code",
   "execution_count": 2,
   "metadata": {
    "scrolled": false
   },
   "outputs": [],
   "source": [
    "# Make the data using two features::\n",
    "# Is currently a student: \n",
    "# 0- no, 1-yes\n",
    "# income average grouped based on Quartiles\n",
    "\n",
    "np.random.seed(42)\n",
    "is_student = np.array([1] * 1000 + [0] * 1200)\n",
    "incomes = np.round(np.random.randint(low=30000, high=120000, size=2200) / 1000) * 1000  # random distribution of incomes\n",
    "# bin the incomes according to quartiles:\n",
    "incomes_qnts = pd.qcut(incomes, 4, labels=False)\n",
    "# shuffle data\n",
    "np.random.shuffle(is_student)\n",
    "np.random.shuffle(incomes_qnts)\n",
    "features = ['student', 'income_group']\n",
    "data = np.concatenate([is_student.reshape(-1, 1), incomes_qnts.reshape(-1, 1)], axis=1)\n",
    "pddata = pd.DataFrame(data, columns=features)\n",
    "\n",
    "labels = [1 if s == 1 and a == 1 else 0 for s, a in data]"
   ]
  },
  {
   "cell_type": "markdown",
   "metadata": {},
   "source": [
    "#### Weight metric:"
   ]
  },
  {
   "cell_type": "code",
   "execution_count": 3,
   "metadata": {},
   "outputs": [
    {
     "name": "stdout",
     "output_type": "stream",
     "text": [
      "Training...\n",
      "Preforming prediction of the test data\n",
      "Precision: 1.0, Accuaracy: 1.0, Recall: 1.0, F1_score: 1.0\n"
     ]
    }
   ],
   "source": [
    "# Train a model:\n",
    "path_result=None\n",
    "X_train, X_test, y_train, y_test = train_test_split(pddata, labels, test_size=0.2, random_state=42)\n",
    "xgb_model1 = XgboostModel(X_train, y_train, X_test, y_test, optimized_params=True)\n",
    "xgb_model1.train(path_result, do_hps=False, do_split=False, do_save=False, do_print=True, seed=42)\n"
   ]
  },
  {
   "cell_type": "code",
   "execution_count": 4,
   "metadata": {
    "scrolled": false
   },
   "outputs": [
    {
     "data": {
      "image/png": "[encoded data removed]",
      "text/plain": [
       "<Figure size 720x432 with 1 Axes>"
      ]
     },
     "metadata": {
      "needs_background": "light"
     },
     "output_type": "display_data"
    }
   ],
   "source": [
    "fig, ax = plt.subplots(1,1,figsize=[10,6])\n",
    "feature_importances = xgb.plot_importance(xgb_model1.xg_class, ax=ax,  color=[(0.3,0.12,0.5), (0.8,0.9,0.23)])\n",
    "plt.rc('font', size=18)\n",
    "plt.tight_layout()\n"
   ]
  },
  {
   "cell_type": "markdown",
   "metadata": {},
   "source": [
    "#### How will different encoding change the results: "
   ]
  },
  {
   "cell_type": "markdown",
   "metadata": {},
   "source": [
    "Now, the only difference we introduce to the data is : # grownups - 0, children - 1, old people - 2\n",
    "So the desired category in age feature is 0"
   ]
  },
  {
   "cell_type": "code",
   "execution_count": 5,
   "metadata": {
    "scrolled": true
   },
   "outputs": [
    {
     "data": {
      "image/png": "[encoded data removed]",
      "text/plain": [
       "<Figure size 432x288 with 1 Axes>"
      ]
     },
     "metadata": {
      "needs_background": "light"
     },
     "output_type": "display_data"
    }
   ],
   "source": [
    "path_results = None\n",
    "#### case 1: label=1\n",
    "labels = [1 if s == 1 and a == 1 else 0 for s, a in data]\n",
    "X_train, X_test, y_train, y_test = train_test_split(pddata, labels, test_size=0.2, random_state=42)\n",
    "student_imp1 = []\n",
    "income_imp1 = []\n",
    "\n",
    "n = 100\n",
    "np.random.seed(XgboostModel.DEFAULT_SEED)\n",
    "model_seed = np.random.randint(low=0, high=200, size=n)\n",
    "\n",
    "for i in range(n):\n",
    "    xgb_model = XgboostModel(X_train, y_train, X_test, y_test, optimized_params=True)\n",
    "\n",
    "    xgb_model.train(path_result, do_hps=False, do_split=False, do_save=False, do_print=False, seed=model_seed[i])\n",
    "    feature_importances = xgb_model.xg_class.get_booster().get_score(importance_type='weight')\n",
    "    student_imp1.append(feature_importances['student'])\n",
    "    income_imp1.append(feature_importances['income_group'])\n",
    "\n",
    "\n",
    "#### case 2: label=0\n",
    "labels = [s == 1 and a == 0 for s, a in data]\n",
    "\n",
    "X_train, X_test, y_train, y_test = train_test_split(pddata, labels, test_size=0.2, random_state=42)\n",
    "student_imp2 = []\n",
    "income_imp2 = []\n",
    "\n",
    "for i in range(n):\n",
    "    xgb_model = XgboostModel(X_train, y_train, X_test, y_test, optimized_params=True)\n",
    "\n",
    "    xgb_model.train(path_results, do_hps=False, do_split=False, do_save=False, do_print=False, seed=model_seed[i])\n",
    "    feature_importances = xgb_model.xg_class.get_booster().get_score(importance_type='weight')\n",
    "    student_imp2.append(feature_importances['student'])\n",
    "    income_imp2.append(feature_importances['income_group'])\n",
    "\n",
    "df = pd.DataFrame([['student', 'encode1', np.mean(student_imp1), np.std(student_imp1)],\n",
    "                   ['student', 'encode2', np.mean(student_imp2), np.std(student_imp2)],\n",
    "                   ['income', 'encode1', np.mean(income_imp1), np.std(income_imp1)],\n",
    "                   ['income', 'encode2', np.mean(income_imp2), np.std(income_imp2)]],\n",
    "                  columns=['feature', 'encoding', 'mean_importance', 'std_importance'])\n",
    "\n",
    "ax = df.pivot(index='feature', columns='encoding', values='mean_importance').plot(kind='bar', yerr=df.pivot(index='feature',\n",
    "                                                            columns='encoding', values='std_importance').values, fontsize=16)\n",
    "ax.legend(fontsize=14)\n",
    "plt.tight_layout()"
   ]
  },
  {
   "cell_type": "markdown",
   "metadata": {},
   "source": [
    "#### Other metrics:"
   ]
  },
  {
   "cell_type": "code",
   "execution_count": 6,
   "metadata": {},
   "outputs": [],
   "source": [
    "# load model: \n",
    "criterions = ['weight', 'gain', 'total_gain', 'cover', 'total_cover']\n",
    "imps = []\n",
    "student_imps = []\n",
    "income_group_imps = []\n",
    "for c in criterions:\n",
    "    feature_importances = xgb_model1.xg_class.get_booster().get_score(importance_type=c)\n",
    "    imps.append(feature_importances)\n",
    "    student_imps.append(feature_importances['student'])\n",
    "    income_group_imps.append(feature_importances['income_group'])"
   ]
  },
  {
   "cell_type": "code",
   "execution_count": 7,
   "metadata": {},
   "outputs": [
    {
     "data": {
      "image/png": "[encoded data removed]",
      "text/plain": [
       "<Figure size 1368x864 with 2 Axes>"
      ]
     },
     "metadata": {
      "needs_background": "light"
     },
     "output_type": "display_data"
    }
   ],
   "source": [
    "npstu = np.array(student_imps)\n",
    "npin = np.array(income_group_imps)\n",
    "snum = npstu + npin\n",
    "\n",
    "# normalization\n",
    "norm_npstu = npstu/snum\n",
    "norm_npin = npin/snum\n",
    "\n",
    "fig, (ax1, ax2) = plt.subplots(1, 2, figsize=(19,12))\n",
    "#fig.suptitle('xgboost feature importance using different metrics', fontsize=20)\n",
    "ax1.bar(criterions, npstu, label='student')\n",
    "ax1.bar(criterions, npin ,bottom=npstu,label='income')\n",
    "\n",
    "\n",
    "ax2.bar(criterions, norm_npstu, label='student')\n",
    "ax2.bar(criterions, norm_npin ,bottom=norm_npstu,label='income')\n",
    "ax2.legend(bbox_to_anchor=(1.01,0.5), loc='center left', prop={'size': 18})\n",
    "ax2.set_title('Normalized', fontsize=18)\n",
    "\n",
    "plt.rc('font', size=19) \n",
    "plt.tight_layout()"
   ]
  },
  {
   "cell_type": "markdown",
   "metadata": {},
   "source": [
    "### Using permutations:"
   ]
  },
  {
   "cell_type": "code",
   "execution_count": 8,
   "metadata": {
    "scrolled": false
   },
   "outputs": [
    {
     "name": "stderr",
     "output_type": "stream",
     "text": [
      "INFO:numexpr.utils:NumExpr defaulting to 8 threads.\n"
     ]
    },
    {
     "name": "stdout",
     "output_type": "stream",
     "text": [
      "Training...\n",
      "Preforming prediction of the test data\n",
      "Precision: 0.8153846153846154, Accuaracy: 0.8659217877094972, Recall: 0.8153846153846154, F1_score: 0.8153846153846154\n"
     ]
    },
    {
     "name": "stderr",
     "output_type": "stream",
     "text": [
      "A column-vector y was passed when a 1d array was expected. Please change the shape of y to (n_samples, ), for example using ravel().\n",
      "A column-vector y was passed when a 1d array was expected. Please change the shape of y to (n_samples, ), for example using ravel().\n"
     ]
    }
   ],
   "source": [
    "# Train another model:\n",
    "train = pd.read_csv(\"../input/Titanic/train_processed_nonohe.csv\")\n",
    "mytest = pd.read_csv(\"../input/Titanic/mytest_processed_nonohe.csv\")\n",
    "\n",
    "# Drop passenger id:\n",
    "mytest.drop(labels=[\"PassengerId\"], axis=1, inplace=True)\n",
    "train.drop(labels=[\"PassengerId\"], axis=1, inplace=True)\n",
    "train[\"Survived\"] = train[\"Survived\"].astype(int)\n",
    "mytest[\"Survived\"] = mytest[\"Survived\"].astype(int)\n",
    "y_train = train[[\"Survived\"]]\n",
    "X_train = train.drop(labels=[\"Survived\"], axis=1)\n",
    "y_test = mytest[[\"Survived\"]]\n",
    "X_test = mytest.drop(labels=[\"Survived\"], axis=1)\n",
    "\n",
    "# Normalization of data\n",
    "X_train_norm = X_train.copy()\n",
    "X_test_norm = X_test.copy()\n",
    "columns_to_normalize = ['Parch', 'Age', 'Fare', 'SibSp']\n",
    "X_train_cols_copy = X_train[columns_to_normalize].copy()\n",
    "X_test_cols_copy = X_test_norm[columns_to_normalize].copy()\n",
    "\n",
    "mean = X_train[columns_to_normalize].mean()\n",
    "std = X_train[columns_to_normalize].std()\n",
    "X_train_norm[columns_to_normalize] = (X_train_cols_copy - mean) / std\n",
    "X_test_norm[columns_to_normalize] = (X_test_cols_copy - mean) / std\n",
    "\n",
    "X_train = X_train_norm\n",
    "X_test = X_test_norm\n",
    "\n",
    "path_result=None\n",
    "xgb_model2 = XgboostModel(X_train, y_train, X_test, y_test, optimized_params=True)\n",
    "xgb_model2.train(path_result, do_hps=False, do_split=False, do_save=False, do_print=True, seed=123)"
   ]
  },
  {
   "cell_type": "code",
   "execution_count": 9,
   "metadata": {},
   "outputs": [],
   "source": [
    "perm_test = []\n",
    "perm_train = []\n",
    "mean_perm_test = []\n",
    "mean_perm_train = []\n",
    "std_perm_test = []\n",
    "std_perm_train = []\n",
    "np.random.seed(42)\n",
    "model_seed = np.random.randint(low=0, high=200, size=n)\n",
    "for i in range(5):\n",
    "    perm_test.append(PermutationImportance(xgb_model2.xg_class, random_state=model_seed[i]).fit(X_test, y_test)) \n",
    "    perm_train.append(PermutationImportance(xgb_model2.xg_class, random_state=model_seed[i]).fit(X_train, y_train)) \n",
    "\n",
    "    mean_perm_test.append(perm_test[i].feature_importances_)\n",
    "    mean_perm_train.append(perm_train[i].feature_importances_)\n",
    "    std_perm_test.append(perm_test[i].feature_importances_std_)\n",
    "    std_perm_train.append(perm_train[i].feature_importances_std_)\n",
    "\n",
    "df_mtest = pd.DataFrame(mean_perm_test).T\n",
    "df_stest = pd.DataFrame(std_perm_test).T\n",
    "df_mtest.index = X_test.columns\n",
    "df_stest.index = X_test.columns\n",
    "df_mtrain = pd.DataFrame(mean_perm_train).T\n",
    "df_strain = pd.DataFrame(std_perm_train).T\n",
    "df_mtrain.index = X_train.columns\n",
    "df_strain.index = X_train.columns"
   ]
  },
  {
   "cell_type": "code",
   "execution_count": 10,
   "metadata": {
    "scrolled": false
   },
   "outputs": [
    {
     "data": {
      "image/png": "[encoded data removed]",
      "text/plain": [
       "<Figure size 864x720 with 2 Axes>"
      ]
     },
     "metadata": {
      "needs_background": "light"
     },
     "output_type": "display_data"
    }
   ],
   "source": [
    "fig, [ax1, ax2] = plt.subplots(2,1,figsize=[12,10])\n",
    "df_mtest.plot.bar(yerr=df_stest, ax=ax1,  width=0.71)\n",
    "df_mtrain.plot.bar(yerr=df_strain, ax=ax2, width=0.71, legend=False)\n",
    "ax1.tick_params(labelbottom=False)  \n",
    "fig.text(0.01, 0.5, 'Weights', ha='center', va='center', rotation='vertical')\n",
    "ax1.set_title('Test')\n",
    "ax2.set_title('Train')\n",
    "plt.rc('font', size=19) \n",
    "plt.tight_layout()"
   ]
  },
  {
   "cell_type": "markdown",
   "metadata": {},
   "source": [
    "### Using SHAP:"
   ]
  },
  {
   "cell_type": "code",
   "execution_count": 11,
   "metadata": {},
   "outputs": [
    {
     "name": "stderr",
     "output_type": "stream",
     "text": [
      "Setting feature_perturbation = \"tree_path_dependent\" because no background data was given.\n",
      "sklearn.externals.joblib is deprecated in 0.21 and will be removed in 0.23. Please import this functionality directly from joblib, which can be installed with: pip install joblib. If this warning is raised when loading pickled models, you may need to re-serialize those models with scikit-learn 0.21+.\n"
     ]
    },
    {
     "data": {
      "image/png": "[encoded data removed]",
      "text/plain": [
       "<Figure size 792x504 with 1 Axes>"
      ]
     },
     "metadata": {
      "needs_background": "light"
     },
     "output_type": "display_data"
    }
   ],
   "source": [
    "explainer = shap.TreeExplainer(xgb_model2.xg_class, feature_perturbation = \"tree_path_dependent\" )\n",
    "shap_values = explainer.shap_values(X_test)\n",
    "plt.subplot(111)\n",
    "shap.summary_plot(shap_values, X_test, plot_type=\"bar\", plot_size=(11,7), show=False)\n",
    "plt.tight_layout()"
   ]
  },
  {
   "cell_type": "markdown",
   "metadata": {},
   "source": [
    "## Compare:"
   ]
  },
  {
   "cell_type": "code",
   "execution_count": 12,
   "metadata": {},
   "outputs": [],
   "source": [
    "feature_importances = xgb_model2.xg_class.get_booster().get_score(importance_type='total_gain')\n",
    "perm_test = PermutationImportance(xgb_model2.xg_class, random_state=42).fit(X_test, y_test)\n",
    "perm_train = PermutationImportance(xgb_model2.xg_class, random_state=42).fit(X_train, y_train)\n",
    "perm_test_im = perm_test.feature_importances_\n",
    "perm_train_im = perm_train.feature_importances_"
   ]
  },
  {
   "cell_type": "code",
   "execution_count": 13,
   "metadata": {},
   "outputs": [
    {
     "data": {
      "text/plain": [
       "{'Cabin': 154.4772375712901,\n",
       " 'Age': 811.0124404040992,\n",
       " 'SibSp': 173.06274033992997,\n",
       " 'Embarked': 123.94912439569,\n",
       " 'Parch': 69.34053556741003,\n",
       " 'Title': 504.42108842600004,\n",
       " 'Pclass': 309.83090992112994,\n",
       " 'Sex': 651.1277701078999,\n",
       " 'Fare': 749.7023759198405}"
      ]
     },
     "execution_count": 13,
     "metadata": {},
     "output_type": "execute_result"
    }
   ],
   "source": [
    "feature_importances"
   ]
  },
  {
   "cell_type": "code",
   "execution_count": 14,
   "metadata": {},
   "outputs": [],
   "source": [
    "feature_importances = OrderedDict([(el, feature_importances[el]) for el in X_train.columns])\n",
    "\n",
    "fi_order = len(X_train.columns) - np.argsort(np.argsort(list(feature_importances.values())))\n",
    "ptest_order = len(X_train.columns) - np.argsort(np.argsort(perm_test_im))\n",
    "ptrain_order = len(X_train.columns) - np.argsort(np.argsort(perm_train_im))\n",
    "df_compared = pd.DataFrame([fi_order, ptest_order, ptrain_order]).T \n",
    "\n",
    "df_compared.index = X_train.columns\n",
    "df_compared.columns = ['feature_importances', 'permutations_test', 'permutations_train']"
   ]
  },
  {
   "cell_type": "code",
   "execution_count": 15,
   "metadata": {},
   "outputs": [
    {
     "data": {
      "text/html": [
       "<div>\n",
       "<style scoped>\n",
       "    .dataframe tbody tr th:only-of-type {\n",
       "        vertical-align: middle;\n",
       "    }\n",
       "\n",
       "    .dataframe tbody tr th {\n",
       "        vertical-align: top;\n",
       "    }\n",
       "\n",
       "    .dataframe thead th {\n",
       "        text-align: right;\n",
       "    }\n",
       "</style>\n",
       "<table border=\"1\" class=\"dataframe\">\n",
       "  <thead>\n",
       "    <tr style=\"text-align: right;\">\n",
       "      <th></th>\n",
       "      <th>feature_importances</th>\n",
       "      <th>permutations_test</th>\n",
       "      <th>permutations_train</th>\n",
       "    </tr>\n",
       "  </thead>\n",
       "  <tbody>\n",
       "    <tr>\n",
       "      <th>Age</th>\n",
       "      <td>1</td>\n",
       "      <td>4</td>\n",
       "      <td>2</td>\n",
       "    </tr>\n",
       "    <tr>\n",
       "      <th>Cabin</th>\n",
       "      <td>7</td>\n",
       "      <td>5</td>\n",
       "      <td>7</td>\n",
       "    </tr>\n",
       "    <tr>\n",
       "      <th>Embarked</th>\n",
       "      <td>8</td>\n",
       "      <td>9</td>\n",
       "      <td>8</td>\n",
       "    </tr>\n",
       "    <tr>\n",
       "      <th>Fare</th>\n",
       "      <td>2</td>\n",
       "      <td>7</td>\n",
       "      <td>3</td>\n",
       "    </tr>\n",
       "    <tr>\n",
       "      <th>Parch</th>\n",
       "      <td>9</td>\n",
       "      <td>8</td>\n",
       "      <td>9</td>\n",
       "    </tr>\n",
       "    <tr>\n",
       "      <th>Pclass</th>\n",
       "      <td>5</td>\n",
       "      <td>3</td>\n",
       "      <td>4</td>\n",
       "    </tr>\n",
       "    <tr>\n",
       "      <th>Sex</th>\n",
       "      <td>3</td>\n",
       "      <td>1</td>\n",
       "      <td>1</td>\n",
       "    </tr>\n",
       "    <tr>\n",
       "      <th>SibSp</th>\n",
       "      <td>6</td>\n",
       "      <td>6</td>\n",
       "      <td>6</td>\n",
       "    </tr>\n",
       "    <tr>\n",
       "      <th>Title</th>\n",
       "      <td>4</td>\n",
       "      <td>2</td>\n",
       "      <td>5</td>\n",
       "    </tr>\n",
       "  </tbody>\n",
       "</table>\n",
       "</div>"
      ],
      "text/plain": [
       "          feature_importances  permutations_test  permutations_train\n",
       "Age                         1                  4                   2\n",
       "Cabin                       7                  5                   7\n",
       "Embarked                    8                  9                   8\n",
       "Fare                        2                  7                   3\n",
       "Parch                       9                  8                   9\n",
       "Pclass                      5                  3                   4\n",
       "Sex                         3                  1                   1\n",
       "SibSp                       6                  6                   6\n",
       "Title                       4                  2                   5"
      ]
     },
     "metadata": {},
     "output_type": "display_data"
    }
   ],
   "source": [
    "display(df_compared)\n"
   ]
  },
  {
   "cell_type": "code",
   "execution_count": 16,
   "metadata": {},
   "outputs": [],
   "source": [
    "# top 3 features:\n",
    "\n",
    "top3_fi = [x for _, x in sorted(zip(fi_order[fi_order<4],X_train.columns[fi_order<4]), key=lambda pair: pair[0])]\n",
    "top3_ptest = [x for _, x in sorted(zip(ptest_order[ptest_order<4],X_train.columns[ptest_order<4]), key=lambda pair: pair[0])]\n",
    "top3_ptrain = [x for _, x in sorted(zip(ptrain_order[ptrain_order<4],X_train.columns[ptrain_order<4]), key=lambda pair: pair[0])]\n",
    "\n",
    "df_top3= pd.DataFrame([top3_fi, top3_ptest, top3_ptrain]).T \n",
    "df_top3.columns = ['feature_importances', 'permutations_test', 'permutations_train']\n",
    "df_top3.index = [1,2,3]"
   ]
  },
  {
   "cell_type": "code",
   "execution_count": 17,
   "metadata": {},
   "outputs": [
    {
     "data": {
      "text/html": [
       "<div>\n",
       "<style scoped>\n",
       "    .dataframe tbody tr th:only-of-type {\n",
       "        vertical-align: middle;\n",
       "    }\n",
       "\n",
       "    .dataframe tbody tr th {\n",
       "        vertical-align: top;\n",
       "    }\n",
       "\n",
       "    .dataframe thead th {\n",
       "        text-align: right;\n",
       "    }\n",
       "</style>\n",
       "<table border=\"1\" class=\"dataframe\">\n",
       "  <thead>\n",
       "    <tr style=\"text-align: right;\">\n",
       "      <th></th>\n",
       "      <th>feature_importances</th>\n",
       "      <th>permutations_test</th>\n",
       "      <th>permutations_train</th>\n",
       "    </tr>\n",
       "  </thead>\n",
       "  <tbody>\n",
       "    <tr>\n",
       "      <th>1</th>\n",
       "      <td>Age</td>\n",
       "      <td>Sex</td>\n",
       "      <td>Sex</td>\n",
       "    </tr>\n",
       "    <tr>\n",
       "      <th>2</th>\n",
       "      <td>Fare</td>\n",
       "      <td>Title</td>\n",
       "      <td>Age</td>\n",
       "    </tr>\n",
       "    <tr>\n",
       "      <th>3</th>\n",
       "      <td>Sex</td>\n",
       "      <td>Pclass</td>\n",
       "      <td>Fare</td>\n",
       "    </tr>\n",
       "  </tbody>\n",
       "</table>\n",
       "</div>"
      ],
      "text/plain": [
       "  feature_importances permutations_test permutations_train\n",
       "1                 Age               Sex                Sex\n",
       "2                Fare             Title                Age\n",
       "3                 Sex            Pclass               Fare"
      ]
     },
     "execution_count": 17,
     "metadata": {},
     "output_type": "execute_result"
    }
   ],
   "source": [
    "df_top3"
   ]
  }
 ],
 "metadata": {
  "kernelspec": {
   "display_name": "Python 3",
   "language": "python",
   "name": "python3"
  },
  "language_info": {
   "codemirror_mode": {
    "name": "ipython",
    "version": 3
   },
   "file_extension": ".py",
   "mimetype": "text/x-python",
   "name": "python",
   "nbconvert_exporter": "python",
   "pygments_lexer": "ipython3",
   "version": "3.7.5"
  }
 },
 "nbformat": 4,
 "nbformat_minor": 2
}
